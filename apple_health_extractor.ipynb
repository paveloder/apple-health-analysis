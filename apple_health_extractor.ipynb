{
 "cells": [
  {
   "cell_type": "markdown",
   "metadata": {},
   "source": [
    "# Apple Health Extractor"
   ]
  },
  {
   "cell_type": "markdown",
   "metadata": {},
   "source": [
    "This code will parse your Apple Health export data, create multiple CSV and do some simple data checks and data analysis. \n",
    "\n",
    "Enjoy! "
   ]
  },
  {
   "cell_type": "markdown",
   "metadata": {},
   "source": [
    "--------"
   ]
  },
  {
   "cell_type": "markdown",
   "metadata": {},
   "source": [
    "## Extract Data and Export to CSVs from Apple Health's Export.xml"
   ]
  },
  {
   "cell_type": "markdown",
   "metadata": {},
   "source": [
    "* Command Line Tool to Process apple health's export.xml file \n",
    "* Create multiple CSV files for each data type. \n",
    "* Original Source: https://github.com/tdda/applehealthdata\n",
    "* Based on the size of your Apple Health Data, this script may take several minutes to complete.\n",
    "\n",
    "**NOTE: Currently there are a few minror errors based on additional data from Apple Health that require some updates.** "
   ]
  },
  {
   "cell_type": "markdown",
   "metadata": {},
   "source": [
    "## Setup and Usage NOTE\n",
    "\n",
    "* Export your data from Apple Health App on your phone. \n",
    "* Unzip export.zip into this directory and rename to data. \n",
    "* Inside your directory there should be a directory and file here: /data/export.xml\n",
    "* Run inside project or in the command line."
   ]
  },
  {
   "cell_type": "code",
   "execution_count": null,
   "metadata": {
    "tags": []
   },
   "outputs": [],
   "source": [
    "# %run -i 'apple-health-data-parser' 'export.xml' \n",
    "%run -i 'apple-health-data-parser' '/home/jovyan/work/экспорт.xml' "
   ]
  },
  {
   "cell_type": "markdown",
   "metadata": {},
   "source": [
    "-----"
   ]
  },
  {
   "cell_type": "markdown",
   "metadata": {},
   "source": [
    "# Apple Health Data Check and Data Analysis"
   ]
  },
  {
   "cell_type": "code",
   "execution_count": null,
   "metadata": {
    "tags": []
   },
   "outputs": [],
   "source": [
    "import numpy as np\n",
    "import pandas as pd\n",
    "import glob\n",
    "from datetime import datetime as dt\n",
    "import dateutil.parser\n",
    "import seaborn as sns\n",
    "from matplotlib import pyplot"
   ]
  },
  {
   "cell_type": "markdown",
   "metadata": {},
   "source": [
    "----"
   ]
  },
  {
   "cell_type": "code",
   "execution_count": null,
   "metadata": {},
   "outputs": [],
   "source": [
    "fat = pd.read_csv(\"/home/jovyan/work/data/DietaryFatTotal.csv\", )\n",
    "cholesterol = pd.read_csv(\"/home/jovyan/work/data/DietaryCholesterol.csv\")\n",
    "sodium = pd.read_csv(\"/home/jovyan/work/data/DietarySodium.csv\")\n",
    "carbohydrates = pd.read_csv(\"/home/jovyan/work/data/DietaryCarbohydrates.csv\")\n",
    "fiber = pd.read_csv(\"/home/jovyan/work/data/DietaryFiber.csv\")\n",
    "sugar = pd.read_csv(\"/home/jovyan/work/data/DietaryEnergyConsumed.csv\")\n",
    "protein = pd.read_csv(\"/home/jovyan/work/data/DietaryProtein.csv\")\n",
    "exercise = pd.read_csv(\"/home/jovyan/work/data/AppleExerciseTime.csv\")\n",
    "heart_rate_variability = pd.read_csv(\"/home/jovyan/work/data/HeartRateVariabilitySDNN.csv\")\n",
    "weight = pd.read_csv(\"/home/jovyan/work/data/BodyMass.csv\")\n",
    "basal_energy = pd.read_csv(\"/home/jovyan/work/data/BasalEnergyBurned.csv\")\n",
    "active_energy = pd.read_csv(\"/home/jovyan/work/data/ActiveEnergyBurned.csv\")\n",
    "body_fat_percent = pd.read_csv(\"/home/jovyan/work/data/BodyFatPercentage.csv\")\n",
    "body_mass_index = pd.read_csv(\"/home/jovyan/work/data/BodyMassIndex.csv\")\n",
    "lean_body_mass = pd.read_csv(\"/home/jovyan/work/data/LeanBodyMass.csv\")\n",
    "step_count = pd.read_csv('/home/jovyan/work/data/StepCount.csv')\n",
    "v02max = pd.read_csv('/home/jovyan/work/data/VO2Max.csv')"
   ]
  },
  {
   "cell_type": "code",
   "execution_count": null,
   "metadata": {},
   "outputs": [],
   "source": [
    "activity_summary = pd.read_csv('/home/jovyan/work/data/ActivitySummary.csv')"
   ]
  },
  {
   "cell_type": "code",
   "execution_count": null,
   "metadata": {},
   "outputs": [],
   "source": [
    "activity_summary['ddate'] = activity_summary['dateComponents'].apply(lambda x: dt.strptime(x[:10], '%Y-%m-%d'))"
   ]
  },
  {
   "cell_type": "markdown",
   "metadata": {},
   "source": [
    "You can change period here"
   ]
  },
  {
   "cell_type": "code",
   "execution_count": null,
   "metadata": {},
   "outputs": [],
   "source": [
    "calendar = pd.DataFrame({'ddate': pd.date_range(start='2021-01-01', end='2021-03-20')})"
   ]
  },
  {
   "cell_type": "code",
   "execution_count": null,
   "metadata": {},
   "outputs": [],
   "source": [
    "all_metrics = (\n",
    "    fat,\n",
    "    cholesterol,\n",
    "    sodium,\n",
    "    carbohydrates,\n",
    "    fiber,\n",
    "    sugar,\n",
    "    protein,\n",
    "    exercise,\n",
    "    heart_rate_variability,\n",
    "    weight,\n",
    "    lean_body_mass,\n",
    "    basal_energy,\n",
    "    body_fat_percent,\n",
    "    body_mass_index,\n",
    "    active_energy,\n",
    "    step_count,\n",
    "    v02max,\n",
    ")"
   ]
  },
  {
   "cell_type": "code",
   "execution_count": null,
   "metadata": {},
   "outputs": [],
   "source": [
    "for df in all_metrics:\n",
    "    df['ddate'] = df['startDate'].apply(lambda x: dt.strptime(x[:10], '%Y-%m-%d'))"
   ]
  },
  {
   "cell_type": "code",
   "execution_count": null,
   "metadata": {},
   "outputs": [],
   "source": [
    "def format_dataframe(df, ):\n",
    "    data_type = df.type[0]\n",
    "\n",
    "    if (\n",
    "        'Percent' not in data_type and\n",
    "        data_type not in ['BodyMass', 'LeanBodyMass']\n",
    "    ):\n",
    "        return df.groupby(['ddate', 'unit', 'type'])[['value']].sum().reset_index()\n",
    "    else:\n",
    "        new_df = df.groupby(['ddate', 'unit', 'type'])[['value']].mean().reset_index()\n",
    "        return new_df \n"
   ]
  },
  {
   "cell_type": "code",
   "execution_count": null,
   "metadata": {},
   "outputs": [],
   "source": [
    "report = calendar\n",
    "\n",
    "for df in all_metrics:\n",
    "    df = format_dataframe(df)\n",
    "    df['value'] = df[['value']].rolling(7).mean()\n",
    "    report = pd.merge(report, df[['ddate', 'value']], how='left', on='ddate')\n",
    "    report.rename(\n",
    "        columns={\n",
    "            'value': df['type'][0]\n",
    "        },\n",
    "        inplace=True,\n",
    "    )"
   ]
  },
  {
   "cell_type": "code",
   "execution_count": null,
   "metadata": {},
   "outputs": [],
   "source": [
    "activity_summary = activity_summary.set_index(\n",
    "    'ddate',\n",
    ").rolling(7).mean().reset_index().dropna(axis=0)"
   ]
  },
  {
   "cell_type": "code",
   "execution_count": null,
   "metadata": {},
   "outputs": [],
   "source": [
    "report = pd.merge(report, activity_summary, how='left', left_on='ddate', right_on='ddate')"
   ]
  },
  {
   "cell_type": "code",
   "execution_count": null,
   "metadata": {},
   "outputs": [],
   "source": [
    "report.drop([\n",
    "    'appleStandHoursGoal', \n",
    "    'activeEnergyBurnedGoal',\n",
    "    'appleExerciseTimeGoal',\n",
    "], axis=1, inplace=True)"
   ]
  },
  {
   "cell_type": "markdown",
   "metadata": {},
   "source": [
    "## Pearson correlation heatmap"
   ]
  },
  {
   "cell_type": "markdown",
   "metadata": {},
   "source": [
    "----"
   ]
  },
  {
   "cell_type": "code",
   "execution_count": null,
   "metadata": {},
   "outputs": [],
   "source": [
    "report.dropna(axis=0, inplace=True)"
   ]
  },
  {
   "cell_type": "code",
   "execution_count": null,
   "metadata": {},
   "outputs": [],
   "source": [
    "corr = report.corr()"
   ]
  },
  {
   "cell_type": "code",
   "execution_count": null,
   "metadata": {},
   "outputs": [],
   "source": [
    "cmap = sns.diverging_palette(230, 20, as_cmap=True)\n",
    "mask = np.triu(np.ones_like(corr, dtype=bool))\n",
    "f, ax = pyplot.subplots(figsize=(11, 9))\n",
    "\n",
    "sns.heatmap(corr, mask=mask, cmap=cmap, vmax=.9, center=0,\n",
    "            square=True, linewidths=.5, cbar_kws={\"shrink\": .5}, fmt=\".1\")"
   ]
  },
  {
   "cell_type": "markdown",
   "metadata": {},
   "source": [
    "## Time charts"
   ]
  },
  {
   "cell_type": "markdown",
   "metadata": {},
   "source": [
    "----"
   ]
  },
  {
   "cell_type": "code",
   "execution_count": null,
   "metadata": {},
   "outputs": [],
   "source": [
    "report.set_index('ddate', inplace=True)"
   ]
  },
  {
   "cell_type": "code",
   "execution_count": null,
   "metadata": {},
   "outputs": [],
   "source": [
    "fig, axes = pyplot.subplots(nrows=7, ncols=1, sharex=True, )\n",
    "\n",
    "fig.set_figheight(15)\n",
    "fig.set_figwidth(15)\n",
    "\n",
    "report[[\n",
    "        'DietaryEnergyConsumed',\n",
    "]].plot(ax=axes[0])\n",
    "\n",
    "report[\n",
    "    [\n",
    "        'DietaryProtein',\n",
    "        'DietaryCarbohydrates',\n",
    "        'DietaryFatTotal',\n",
    "        'DietaryCholesterol',        \n",
    "    ]\n",
    "].plot(ax=axes[1], color=['tab:blue', 'tab:red', 'tab:olive', 'tab:purple'])\n",
    "\n",
    "report[\n",
    "    [\n",
    "        'BodyFatPercentage',\n",
    "        \n",
    "    ]\n",
    "].plot(ax=axes[2], color=['tab:orange'])\n",
    "\n",
    "report[\n",
    "    [\n",
    "        'BodyMass',\n",
    "        'LeanBodyMass',\n",
    "        \n",
    "    ]\n",
    "].plot(ax=axes[5])\n",
    "\n",
    "report[\n",
    "    [\n",
    "        'ActiveEnergyBurned',\n",
    "        \n",
    "    ]\n",
    "].plot(ax=axes[4], color=['tab:green'])\n",
    "\n",
    "report[\n",
    "    [\n",
    "        'StepCount',\n",
    "        \n",
    "    ]\n",
    "].plot(ax=axes[3])\n",
    "\n",
    "report[\n",
    "    [\n",
    "        'appleStandHours',\n",
    "        \n",
    "    ]\n",
    "].plot(ax=axes[6])"
   ]
  },
  {
   "cell_type": "code",
   "execution_count": null,
   "metadata": {},
   "outputs": [],
   "source": []
  }
 ],
 "metadata": {
  "kernelspec": {
   "display_name": "Python 3",
   "language": "python",
   "name": "python3"
  },
  "language_info": {
   "codemirror_mode": {
    "name": "ipython",
    "version": 3
   },
   "file_extension": ".py",
   "mimetype": "text/x-python",
   "name": "python",
   "nbconvert_exporter": "python",
   "pygments_lexer": "ipython3",
   "version": "3.8.8"
  },
  "toc-autonumbering": true,
  "toc-showmarkdowntxt": false
 },
 "nbformat": 4,
 "nbformat_minor": 4
}
